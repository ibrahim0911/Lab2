{
  "nbformat": 4,
  "nbformat_minor": 0,
  "metadata": {
    "colab": {
      "provenance": []
    },
    "kernelspec": {
      "name": "python3",
      "display_name": "Python 3"
    },
    "language_info": {
      "name": "python"
    }
  },
  "cells": [
    {
      "cell_type": "code",
      "execution_count": 1,
      "metadata": {
        "colab": {
          "base_uri": "https://localhost:8080/",
          "height": 887
        },
        "id": "bTmDOFqMBQba",
        "outputId": "9fe2e57d-8c90-47b3-9175-8562cf08f7ad"
      },
      "outputs": [
        {
          "output_type": "display_data",
          "data": {
            "text/plain": [
              "<Figure size 640x480 with 1 Axes>"
            ],
            "image/png": "[encoded data removed]"
          },
          "metadata": {}
        },
        {
          "output_type": "display_data",
          "data": {
            "text/plain": [
              "<Figure size 640x480 with 1 Axes>"
            ],
            "image/png": "[encoded data removed]"
          },
          "metadata": {}
        }
      ],
      "source": [
        "# Import libraries\n",
        "import matplotlib.pyplot as plt\n",
        "import numpy as np\n",
        "group_A = [12, 15, 14, 13, 16, 18, 19, 15, 14, 20, 17, 14, 15,40,45,50,62]\n",
        "group_B = [12, 17, 15, 13, 19, 20, 21, 18, 17, 16, 15, 14, 16, 15]\n",
        "#Box plot of GroupA data\n",
        "plt.boxplot(group_A)\n",
        "plt.title(\"Group A\")\n",
        "plt.ylabel(\"Data\")\n",
        "plt.show()\n",
        "#Box plot of GroupB data\n",
        "plt.boxplot(group_B)\n",
        "plt.title(\"Group B\")\n",
        "plt.ylabel(\"Data\")\n",
        "plt.show()"
      ]
    },
    {
      "cell_type": "code",
      "source": [
        "from PIL import Image\n",
        "import numpy as np\n",
        "import matplotlib.pyplot as plt\n",
        "img =Image.open('images.jfif')\n",
        "data=np.array(img)\n",
        "plt.imshow(data)\n",
        "plt.axis('off')\n",
        "plt.title('Original Image')\n",
        "plt.show()\n",
        "data2=np.rot90(data,1,(0,1))\n",
        "plt.imshow(data2)\n",
        "plt.axis('off')\n",
        "plt.title('Rotated Image')\n",
        "plt.show()\n",
        "data3=np.fliplr(data)\n",
        "plt.imshow(data3)\n",
        "plt.axis('off')\n",
        "plt.title('Flipped Image')\n",
        "plt.show()\n",
        "def grayscale(rgb):\n",
        "        return np.dot(rgb[..., :3], [0.2989, 0.5870, 0.1140])\n",
        "gray_array = grayscale(data)\n",
        "plt.imshow(gray_array, cmap=plt.get_cmap('gray'))  # Use a grayscale colormap\n",
        "plt.axis('off')\n",
        "plt.title('Grayscale Image')\n",
        "plt.show()"
      ],
      "metadata": {
        "id": "KYZe_UbXBnFv"
      },
      "execution_count": null,
      "outputs": []
    },
    {
      "cell_type": "code",
      "source": [
        "# Import libraries\n",
        "import matplotlib.pyplot as plt\n",
        "import numpy as np\n",
        "with open(\"data2.txt\",\"r\") as fin:\n",
        "    data=fin.read()\n",
        "#data=\"ATCGTAGCTAGCTACGATCGATCGTAGCTAGCTAGCTGACTGATCGTAGCTAGCTAGCTAGCTGACTGATCGTAGCTAGCTAGCTAGCTGACT\"\n",
        "nucleotides = [\"A\", \"T\", \"C\", \"G\"]\n",
        "genome_length=len(data)\n",
        "genome = \"\"\n",
        "for i in range(genome_length):\n",
        " genome += data[i]\n",
        "# We'll use the parametric equations for a helix:\n",
        "# x = cos(t), y = sin(t), z = t (or a scaled version of t)\n",
        "# We want to span a range so that the helix makes a few turns.\n",
        "t = np.linspace(0, 4 * np.pi, genome_length) # 4*pi gives about\n",
        "#2 turns\n",
        "x = np.cos(t)\n",
        "y = np.sin(t)\n",
        "z = np.linspace(0, 5, genome_length) # z increases linearly to\n",
        "#spread out the helix vertically\n",
        "# Combine the coordinates into a (genome_length x 3) array\n",
        "coordinates = np.column_stack((x, y, z))\n",
        "colors = {'A': 'red', 'T': 'blue', 'C': 'green', 'G': 'orange'}\n",
        "fig = plt.figure()\n",
        "ax = fig.add_subplot(projection='3d')\n",
        "for i, nucleotide in enumerate(genome):\n",
        " ax.scatter(coordinates[i, 0], coordinates[i, 1], coordinates[i, 2],\n",
        " color=colors[nucleotide], marker='o')\n",
        "ax.set_xlabel(\"X\")\n",
        "ax.set_ylabel(\"Y\")\n",
        "ax.set_zlabel(\"Z\")\n",
        "ax.set_title(\"Genome Visualization\")\n",
        "plt.show()"
      ],
      "metadata": {
        "colab": {
          "base_uri": "https://localhost:8080/",
          "height": 211
        },
        "id": "WIaab-RxBfjQ",
        "outputId": "6140f2f7-1cfd-4e71-9786-f9a45f698333"
      },
      "execution_count": 2,
      "outputs": [
        {
          "output_type": "error",
          "ename": "FileNotFoundError",
          "evalue": "[Errno 2] No such file or directory: 'data2.txt'",
          "traceback": [
            "\u001b[0;31m---------------------------------------------------------------------------\u001b[0m",
            "\u001b[0;31mFileNotFoundError\u001b[0m                         Traceback (most recent call last)",
            "\u001b[0;32m<ipython-input-2-9e7e0296192a>\u001b[0m in \u001b[0;36m<cell line: 0>\u001b[0;34m()\u001b[0m\n\u001b[1;32m      2\u001b[0m \u001b[0;32mimport\u001b[0m \u001b[0mmatplotlib\u001b[0m\u001b[0;34m.\u001b[0m\u001b[0mpyplot\u001b[0m \u001b[0;32mas\u001b[0m \u001b[0mplt\u001b[0m\u001b[0;34m\u001b[0m\u001b[0;34m\u001b[0m\u001b[0m\n\u001b[1;32m      3\u001b[0m \u001b[0;32mimport\u001b[0m \u001b[0mnumpy\u001b[0m \u001b[0;32mas\u001b[0m \u001b[0mnp\u001b[0m\u001b[0;34m\u001b[0m\u001b[0;34m\u001b[0m\u001b[0m\n\u001b[0;32m----> 4\u001b[0;31m \u001b[0;32mwith\u001b[0m \u001b[0mopen\u001b[0m\u001b[0;34m(\u001b[0m\u001b[0;34m\"data2.txt\"\u001b[0m\u001b[0;34m,\u001b[0m\u001b[0;34m\"r\"\u001b[0m\u001b[0;34m)\u001b[0m \u001b[0;32mas\u001b[0m \u001b[0mfin\u001b[0m\u001b[0;34m:\u001b[0m\u001b[0;34m\u001b[0m\u001b[0;34m\u001b[0m\u001b[0m\n\u001b[0m\u001b[1;32m      5\u001b[0m     \u001b[0mdata\u001b[0m\u001b[0;34m=\u001b[0m\u001b[0mfin\u001b[0m\u001b[0;34m.\u001b[0m\u001b[0mread\u001b[0m\u001b[0;34m(\u001b[0m\u001b[0;34m)\u001b[0m\u001b[0;34m\u001b[0m\u001b[0;34m\u001b[0m\u001b[0m\n\u001b[1;32m      6\u001b[0m \u001b[0;31m#data=\"ATCGTAGCTAGCTACGATCGATCGTAGCTAGCTAGCTGACTGATCGTAGCTAGCTAGCTAGCTGACTGATCGTAGCTAGCTAGCTAGCTGACT\"\u001b[0m\u001b[0;34m\u001b[0m\u001b[0;34m\u001b[0m\u001b[0m\n",
            "\u001b[0;31mFileNotFoundError\u001b[0m: [Errno 2] No such file or directory: 'data2.txt'"
          ]
        }
      ]
    },
    {
      "cell_type": "code",
      "source": [
        "from sklearn.datasets import load_iris\n",
        "import numpy as np\n",
        "import matplotlib.pyplot as plt\n",
        "# Load the Iris dataset\n",
        "iris = load_iris()\n",
        "X = np.array(iris.data)  # Features\n",
        "Y = np.array(iris.target)  # Target variable\n",
        "# 1. NumPy Calculations\n",
        "num_features = X.shape[1]\n",
        "for i in range(num_features):\n",
        "    feature_data = X[:, i]  # Extract the i-th feature\n",
        "    mean = np.mean(feature_data)\n",
        "    median = np.median(feature_data)\n",
        "    std_dev = np.std(feature_data)\n",
        "    min_val = np.min(feature_data)\n",
        "    max_val = np.max(feature_data)\n",
        "    print(f\"Feature {i+1}:\")\n",
        "    print(f\"  Mean: {mean:.2f}\")\n",
        "    print(f\"  Median: {median:.2f}\")\n",
        "    print(f\"  Standard Deviation: {std_dev:.2f}\")\n",
        "    print(f\"  Minimum: {min_val:.2f}\")\n",
        "    print(f\"  Maximum: {max_val:.2f}\")\n",
        "    print(\"-\" * 20)\n",
        "# Extract sepal length and sepal width\n",
        "sepal_data = X[:, :2]  # Sepal length is the first feature (index 0), sepal width is the second (index 1)\n",
        "print(\"Sepal Length and Width Data:\\n\", sepal_data)\n",
        "# 2. Matplotlib Visualizations\n",
        "# Scatter plot of sepal length vs sepal width\n",
        "plt.figure(figsize=(8, 6))  # Adjust figure size for better readability\n",
        "plt.scatter(X[:, 0], X[:, 1], c=Y, cmap='viridis')  # X[:, 0] is sepal length, X[:, 1] is sepal width\n",
        "plt.xlabel(\"Sepal Length (cm)\")\n",
        "plt.ylabel(\"Sepal Width (cm)\")\n",
        "plt.title(\"Sepal Length vs Sepal Width\")\n",
        "plt.colorbar(label=\"Species\", ticks=[0, 1, 2])  # Add a colorbar to show species\n",
        "plt.show()\n",
        "# Histogram of sepal length\n",
        "plt.figure(figsize=(8, 6))\n",
        "plt.hist(X[:, 0], bins=20, color='skyblue', edgecolor='black')  # Adjust bins for better visualization\n",
        "plt.xlabel(\"Sepal Length (cm)\")\n",
        "plt.ylabel(\"Frequency\")\n",
        "plt.title(\"Distribution of Sepal Length\")\n",
        "plt.show()\n",
        "# Line plot of petal length vs petal width\n",
        "plt.figure(figsize=(8, 6))\n",
        "plt.plot(X[:, 2], X[:, 3], marker='o', linestyle='-', color='coral')  # X[:, 2] is petal length, X[:, 3] is petal width\n",
        "plt.xlabel(\"Petal Length (cm)\")\n",
        "plt.ylabel(\"Petal Width (cm)\")\n",
        "plt.title(\"Petal Length vs Petal Width\")\n",
        "plt.grid(True)  # Add grid for easier reading\n",
        "plt.show()"
      ],
      "metadata": {
        "id": "M8qQiAI2Bnh3"
      },
      "execution_count": null,
      "outputs": []
    },
    {
      "cell_type": "code",
      "source": [],
      "metadata": {
        "id": "oK0YYEH_Bn3_"
      },
      "execution_count": null,
      "outputs": []
    }
  ]
}